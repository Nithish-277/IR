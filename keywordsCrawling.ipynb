{
 "cells": [
  {
   "cell_type": "markdown",
   "metadata": {},
   "source": [
    "## Crawling Search Keywords "
   ]
  },
  {
   "cell_type": "markdown",
   "metadata": {},
   "source": [
    "## Extracting keywords using SELENIUM Web Browser and Parsing HTML tags with Beutiful Soup"
   ]
  },
  {
   "cell_type": "code",
   "execution_count": 1,
   "metadata": {},
   "outputs": [],
   "source": [
    "import csv,json\n",
    "from bs4 import BeautifulSoup\n",
    "from msedge.selenium_tools import Edge,EdgeOptions\n",
    "from selenium import webdriver\n",
    "\n",
    "def get_url(search_term):\n",
    "    template = \"https://www.amazon.in/s?k={}&ref=nb_sb_noss\"\n",
    "    search_term = search_term.replace(' ','+')\n",
    "    #add item query\n",
    "    url = template.format(search_term)\n",
    "    #add page query placeholder\n",
    "    url+='&page{}'\n",
    "    return template.format(search_term)\n",
    "\n",
    "def extract_record(item):\n",
    "    \"\"\"Extract and return data from a single record \"\"\"\n",
    "    #description and url\n",
    "    try:\n",
    "        atag = item.h2.a\n",
    "        description = atag.text.strip()\n",
    "        url = 'https://www.amazon.in/' + atag.get('href')\n",
    "    except AttributeError:\n",
    "        description = ''\n",
    "        return\n",
    "    #price\n",
    "    try:\n",
    "        price_parent = item.find('span','a-price')\n",
    "        price = price_parent.find('span','a-offscreen').text\n",
    "    except AttributeError:\n",
    "        return\n",
    "    #rating\n",
    "    try:\n",
    "        rating = item.i.text\n",
    "        review_count = item.find('span',{'class' : 'a-size-base','dir':'auto'}).text\n",
    "    except AttributeError:\n",
    "        rating = ''\n",
    "        review_count = ''\n",
    "    \n",
    "    result = (description,price,rating,review_count,url)\n",
    "    return result\n",
    "\n",
    "def main():\n",
    "    \"\"\"Run main program routine\"\"\"\n",
    "    \n",
    "    #startup the webdriver\n",
    "    driver = webdriver.Chrome()\n",
    "    \n",
    "    records = []\n",
    "#     url = get_url(search_term)\n",
    "    url = 'https://ahrefs.com/blog/top-amazon-searches/'\n",
    "    driver.get(url)\n",
    "    \n",
    "    for page in range(1,21):\n",
    "        driver.get(url.format(page))\n",
    "        soup = BeautifulSoup(driver.page_source,'html.parser')\n",
    "        results = soup.find_all('td',{'class' : 'column-2'})\n",
    "    \n",
    "    driver.close()\n",
    "    \n",
    "    #save data to csv file\n",
    "    with open('keyword.csv','w',newline = '',encoding = 'utf-8') as f:\n",
    "        writer = csv.writer(f)\n",
    "        writer.writerow(['keywords'])\n",
    "        writer.writerows(results)"
   ]
  },
  {
   "cell_type": "code",
   "execution_count": 2,
   "metadata": {},
   "outputs": [],
   "source": [
    "main()"
   ]
  },
  {
   "cell_type": "markdown",
   "metadata": {},
   "source": [
    "## Getting all the keywords"
   ]
  },
  {
   "cell_type": "code",
   "execution_count": 10,
   "metadata": {},
   "outputs": [
    {
     "data": {
      "text/plain": [
       "array(['keywords'], dtype=object)"
      ]
     },
     "execution_count": 10,
     "metadata": {},
     "output_type": "execute_result"
    }
   ],
   "source": [
    "import pandas as pd\n",
    "keywords = pd.read_csv('keyword.csv',header = None)\n",
    "keywords = keywords.iloc[:].values"
   ]
  },
  {
   "cell_type": "markdown",
   "metadata": {},
   "source": [
    "## Removing Duplicate Keywords"
   ]
  },
  {
   "cell_type": "code",
   "execution_count": 5,
   "metadata": {},
   "outputs": [],
   "source": [
    "finalKeywords = [] \n",
    "for i in keywords: \n",
    "    if i not in finalKeywords: \n",
    "        finalKeywords.append(i) "
   ]
  },
  {
   "cell_type": "markdown",
   "metadata": {},
   "source": [
    "## Storing All Final Keywords in CSV File"
   ]
  },
  {
   "cell_type": "code",
   "execution_count": 7,
   "metadata": {},
   "outputs": [],
   "source": [
    "  with open('finalKeywords.csv','w',newline = '',encoding = 'utf-8') as f:\n",
    "        writer = csv.writer(f)\n",
    "        for i in finalKeywords:\n",
    "            writer.writerow(i)"
   ]
  }
 ],
 "metadata": {
  "kernelspec": {
   "display_name": "Python 3",
   "language": "python",
   "name": "python3"
  },
  "language_info": {
   "codemirror_mode": {
    "name": "ipython",
    "version": 3
   },
   "file_extension": ".py",
   "mimetype": "text/x-python",
   "name": "python",
   "nbconvert_exporter": "python",
   "pygments_lexer": "ipython3",
   "version": "3.8.3"
  }
 },
 "nbformat": 4,
 "nbformat_minor": 4
}
